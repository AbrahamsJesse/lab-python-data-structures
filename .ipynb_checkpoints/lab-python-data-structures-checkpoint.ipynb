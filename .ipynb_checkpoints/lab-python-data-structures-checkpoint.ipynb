{
 "cells": [
  {
   "cell_type": "markdown",
   "metadata": {
    "tags": []
   },
   "source": [
    "# Lab | Data Structures "
   ]
  },
  {
   "cell_type": "code",
   "execution_count": null,
   "metadata": {},
   "outputs": [],
   "source": [
    "## Exercise: Managing Customer Orders\n",
    "\n",
    "As part of a business venture, you are starting an online store that sells various products. To ensure smooth operations, you need to develop a program that manages customer orders and inventory.\n",
    "\n",
    "Follow the steps below to complete the exercise:\n",
    "\n",
    "1. Define a list called `products` that contains the following items: \"t-shirt\", \"mug\", \"hat\", \"book\", \"keychain\".\n",
    "\n",
    "2. Create an empty dictionary called `inventory`.\n",
    "\n",
    "3. Ask the user to input the quantity of each product available in the inventory. Use the product names from the `products` list as keys in the `inventory` dictionary and assign the respective quantities as values.\n",
    "\n",
    "4. Create an empty set called `customer_orders`.\n",
    "\n",
    "5. Ask the user to input the name of three products that a customer wants to order (from those in the products list, meaning three products out of \"t-shirt\", \"mug\", \"hat\", \"book\" or \"keychain\". Add each product name to the `customer_orders` set.\n",
    "\n",
    "6. Print the products in the `customer_orders` set.\n",
    "\n",
    "7. Calculate the following order statistics:\n",
    "   - Total Products Ordered: The total number of products in the `customer_orders` set.\n",
    "   - Percentage of Products Ordered: The percentage of products ordered compared to the total available products.\n",
    "   \n",
    "   Store these statistics in a tuple called `order_status`.\n",
    "\n",
    "8. Print the order statistics using the following format:\n",
    "   ```\n",
    "   Order Statistics:\n",
    "   Total Products Ordered: <total_products_ordered>\n",
    "   Percentage of Products Ordered: <percentage_ordered>% \n",
    "   ```\n",
    "\n",
    "9. Update the inventory by subtracting 1 from the quantity of each product. Modify the `inventory` dictionary accordingly.\n",
    "\n",
    "10. Print the updated inventory, displaying the quantity of each product on separate lines.\n",
    "\n",
    "Solve the exercise by implementing the steps using the Python concepts of lists, dictionaries, sets, and basic input/output operations. "
   ]
  },
  {
   "cell_type": "code",
   "execution_count": null,
   "metadata": {},
   "outputs": [],
   "source": []
  },
  {
   "cell_type": "code",
   "execution_count": 3,
   "metadata": {},
   "outputs": [
    {
     "name": "stdout",
     "output_type": "stream",
     "text": [
      "how many units are available of t-shirt ?5\n",
      "how many units are available of mug ?5\n",
      "how many units are available of hat ?5\n",
      "how many units are available of book ?5\n",
      "how many units are available of keychain ?5\n",
      "{'t-shirt': 5, 'mug': 5, 'hat': 5, 'book': 5, 'keychain': 5}\n",
      "what three products do you need?book\n",
      "what three products do you need?hat\n",
      "what three products do you need?t-shirt\n",
      "This is the order:  {'hat', 'book', 't-shirt'}\n",
      "This is the total of the order 3\n",
      "Total Products Ordered: 3\n",
      "Percentage of Products Ordered in comparison with the total available: 60.0 %\n",
      "This is the inventory updated: {'t-shirt': 4, 'mug': 4, 'hat': 4, 'book': 4, 'keychain': 4}\n"
     ]
    }
   ],
   "source": [
    "# products = [\"t-shirt\", \"mug\", \"hat\", \"book\", \"keychain\"]\n",
    "inventory = {}\n",
    "\n",
    "for items in products:\n",
    "    unit = input (f'how many units are available of {items} ?')\n",
    "    unit = int (unit)\n",
    "    inventory [items]= unit\n",
    "print (inventory)\n",
    "\n",
    "\n",
    "\n",
    "##CREATE A SET\n",
    "customer_orders = set()\n",
    "for items in range (3):\n",
    "    items = input ('what three products do you need?')\n",
    "  \n",
    "    #customer_orders [items] only when we want  to access a list dic set \n",
    "    customer_orders.add(items)\n",
    "    \n",
    "print('This is the order: ', customer_orders)\n",
    "\n",
    "\n",
    "###########################################\n",
    "#TOTAL OF PRODUCTS\n",
    "sum_of_products = len (customer_orders)\n",
    "print ( 'This is the total of the order', sum_of_products)\n",
    "\n",
    "\n",
    "\n",
    "\n",
    "###########################################\n",
    "#TOTAL OF PRODUCTS\n",
    "sum_of_products = len (customer_orders)\n",
    "\n",
    "#PERCENTAGE OF THE TOTAL\n",
    "x =len(products) #sacamos el total de productos\n",
    "z=len(customer_orders) #sacamos el total de pedidos\n",
    "percentage_of_orders = z*100/5 #porcentaje: pedidos(3) entre 100, por el total (5)\n",
    "\n",
    "order_status_sum = sum_of_products\n",
    "order_status_percentage = percentage_of_orders\n",
    "order_status = (sum_of_products, percentage_of_orders) ##TUPLE\n",
    "\n",
    "print('Total Products Ordered:', order_status_sum)\n",
    "print ('Percentage of Products Ordered in comparison with the total available:', order_status_percentage, '%')\n",
    "\n",
    "\n",
    "\n",
    "#Update the inventory by subtracting 1 from the quantity \n",
    "#of each product. Modify the inventory dictionary accordingly.\n",
    "\n",
    "#Print the updated inventory, displaying the quantity of each product on separate lines.\n",
    "\n",
    "for key in inventory:\n",
    "    \n",
    "    inventory[key] -= 1\n",
    "    \n",
    "print (f'This is the inventory updated:', inventory)\n",
    "\n"
   ]
  },
  {
   "cell_type": "markdown",
   "metadata": {},
   "source": [
    "##### "
   ]
  },
  {
   "cell_type": "code",
   "execution_count": null,
   "metadata": {},
   "outputs": [],
   "source": []
  },
  {
   "cell_type": "code",
   "execution_count": null,
   "metadata": {},
   "outputs": [],
   "source": []
  }
 ],
 "metadata": {
  "kernelspec": {
   "display_name": "Python 3 (ipykernel)",
   "language": "python",
   "name": "python3"
  },
  "language_info": {
   "codemirror_mode": {
    "name": "ipython",
    "version": 3
   },
   "file_extension": ".py",
   "mimetype": "text/x-python",
   "name": "python",
   "nbconvert_exporter": "python",
   "pygments_lexer": "ipython3",
   "version": "3.11.4"
  }
 },
 "nbformat": 4,
 "nbformat_minor": 4
}
